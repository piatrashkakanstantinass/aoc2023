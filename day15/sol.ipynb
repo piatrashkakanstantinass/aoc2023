{
 "cells": [
  {
   "cell_type": "code",
   "execution_count": 19,
   "metadata": {},
   "outputs": [
    {
     "name": "stdout",
     "output_type": "stream",
     "text": [
      "510801\n",
      "212763\n"
     ]
    }
   ],
   "source": [
    "import re\n",
    "\n",
    "with open('input.txt') as f:\n",
    "  sequence = f.read().strip().split(',')\n",
    "\n",
    "def aoc_hash(s: str) -> int:\n",
    "  hash = 0\n",
    "  for c in s:\n",
    "    hash += ord(c)\n",
    "    hash *= 17\n",
    "    hash %= 256\n",
    "  return hash\n",
    "\n",
    "\n",
    "def solve_part1():\n",
    "  print(sum(map(aoc_hash, sequence)))\n",
    "\n",
    "def solve_part2():\n",
    "  boxes: list[list[tuple[str, int]]] = [[] for i in range(265)]\n",
    "  for s in sequence:\n",
    "    match = re.match(r'\\w+', s)\n",
    "    label = match.group()\n",
    "    label_hash = aoc_hash(label)\n",
    "    op = s[match.end()]\n",
    "    if op == '-':\n",
    "      new_box = []\n",
    "      for lense in boxes[label_hash]:\n",
    "        if lense[0] == label:\n",
    "          continue\n",
    "        new_box.append(lense)\n",
    "      boxes[label_hash] = new_box\n",
    "    else:\n",
    "      focal_length = int(s[match.end() + 1:])\n",
    "      found = False\n",
    "      for i, lense in enumerate(boxes[label_hash]):\n",
    "        if lense[0] == label:\n",
    "          boxes[label_hash][i] = (label, focal_length)\n",
    "          found = True\n",
    "          break\n",
    "      if not found:\n",
    "        boxes[label_hash].append((label, focal_length))\n",
    "\n",
    "  res = 0\n",
    "  for i, box in enumerate(boxes):\n",
    "    for j, lense in enumerate(box):\n",
    "      res += (1 + i) * (j + 1) * lense[1]\n",
    "  print(res)\n",
    "      \n",
    "\n",
    "solve_part1()\n",
    "solve_part2()"
   ]
  }
 ],
 "metadata": {
  "kernelspec": {
   "display_name": "Python 3",
   "language": "python",
   "name": "python3"
  },
  "language_info": {
   "codemirror_mode": {
    "name": "ipython",
    "version": 3
   },
   "file_extension": ".py",
   "mimetype": "text/x-python",
   "name": "python",
   "nbconvert_exporter": "python",
   "pygments_lexer": "ipython3",
   "version": "3.10.13"
  }
 },
 "nbformat": 4,
 "nbformat_minor": 2
}
