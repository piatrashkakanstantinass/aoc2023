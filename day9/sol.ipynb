{
 "cells": [
  {
   "cell_type": "code",
   "execution_count": 15,
   "metadata": {},
   "outputs": [
    {
     "name": "stdout",
     "output_type": "stream",
     "text": [
      "[[0, 3, 6, 9, 12, 15], [1, 3, 6, 10, 15, 21], [10, 13, 16, 21, 30, 45]]\n"
     ]
    }
   ],
   "source": [
    "with open('input.txt') as f:\n",
    "  report = [[int(value) for value in history.split()] for history in f.read().splitlines()]\n",
    "print(report)"
   ]
  },
  {
   "cell_type": "code",
   "execution_count": 13,
   "metadata": {},
   "outputs": [],
   "source": [
    "def next_value(history: [int]) -> int:\n",
    "  diffs = [history]\n",
    "  while diffs[-1] != [0] * len(diffs[-1]):\n",
    "    diffs.append(difference_at_each_step(diffs[-1]))\n",
    "  res = 0\n",
    "  for v in reversed(diffs):\n",
    "    res = v[0] - res\n",
    "  return res\n",
    "\n",
    "def difference_at_each_step(history: [int]) -> [int]:\n",
    "  return [history[i + 1] - history[i] for i in range(len(history) - 1)]"
   ]
  },
  {
   "cell_type": "code",
   "execution_count": 16,
   "metadata": {},
   "outputs": [
    {
     "name": "stdout",
     "output_type": "stream",
     "text": [
      "2\n"
     ]
    }
   ],
   "source": [
    "print(sum(map(next_value, report)))"
   ]
  }
 ],
 "metadata": {
  "kernelspec": {
   "display_name": "Python 3",
   "language": "python",
   "name": "python3"
  },
  "language_info": {
   "codemirror_mode": {
    "name": "ipython",
    "version": 3
   },
   "file_extension": ".py",
   "mimetype": "text/x-python",
   "name": "python",
   "nbconvert_exporter": "python",
   "pygments_lexer": "ipython3",
   "version": "3.10.13"
  }
 },
 "nbformat": 4,
 "nbformat_minor": 2
}
