{
 "cells": [
  {
   "cell_type": "code",
   "execution_count": 42,
   "metadata": {},
   "outputs": [
    {
     "data": {
      "text/plain": [
       "96105"
      ]
     },
     "execution_count": 42,
     "metadata": {},
     "output_type": "execute_result"
    }
   ],
   "source": [
    "with open('input.txt') as f:\n",
    "  grid = f.read().splitlines()\n",
    "\n",
    "memo = []\n",
    "\n",
    "def roll_grid(grid: tuple[tuple[str]]):\n",
    "  new_grid: list[list[str]] = []\n",
    "  roll_indexes = [0] * len(grid[0])\n",
    "  for i, row in enumerate(grid):\n",
    "    new_row = []\n",
    "    for j, value in enumerate(row):\n",
    "      new_row.append(value)\n",
    "      if value == '#':\n",
    "        roll_indexes[j] = i + 1\n",
    "      elif value == 'O':\n",
    "        if roll_indexes[j] < i:\n",
    "          new_grid[roll_indexes[j]][j] = 'O'\n",
    "          new_row[-1] = '.'\n",
    "        roll_indexes[j] += 1\n",
    "    new_grid.append(new_row)\n",
    "  return new_grid\n",
    "\n",
    "iterations = 1000000000\n",
    "\n",
    "for i in range(iterations):\n",
    "  if grid in memo:\n",
    "    duplicate_index = memo.index(grid)\n",
    "    iterations_left = iterations - i\n",
    "    grid = memo [duplicate_index + iterations_left % (len(memo) - duplicate_index)]\n",
    "    break\n",
    "  memo.append(grid)\n",
    "  for j in range(4):\n",
    "    grid = roll_grid(grid)\n",
    "    grid = list(map(list, map(reversed, list(zip(*grid)))))\n",
    "\n",
    "res = 0\n",
    "for i, row in enumerate(reversed(grid)):\n",
    "  res += (i + 1) * row.count('O')\n",
    "res"
   ]
  }
 ],
 "metadata": {
  "kernelspec": {
   "display_name": "Python 3",
   "language": "python",
   "name": "python3"
  },
  "language_info": {
   "codemirror_mode": {
    "name": "ipython",
    "version": 3
   },
   "file_extension": ".py",
   "mimetype": "text/x-python",
   "name": "python",
   "nbconvert_exporter": "python",
   "pygments_lexer": "ipython3",
   "version": "3.10.13"
  }
 },
 "nbformat": 4,
 "nbformat_minor": 2
}
