{
 "cells": [
  {
   "cell_type": "code",
   "execution_count": 9,
   "metadata": {},
   "outputs": [
    {
     "name": "stdout",
     "output_type": "stream",
     "text": [
      "138915\n"
     ]
    }
   ],
   "source": [
    "from dataclasses import dataclass\n",
    "\n",
    "@dataclass\n",
    "class Race:\n",
    "  time: int\n",
    "  recordDistance: int\n",
    "\n",
    "  @property\n",
    "  def waysToWin(self):\n",
    "    \"\"\"Number of ways to beat current record\"\"\"\n",
    "    res = 0\n",
    "    for possible_time in range(1, self.time):\n",
    "      if (self.time - possible_time) * possible_time > self.recordDistance:\n",
    "        res += 1\n",
    "    return res\n",
    "\n",
    "races = [\n",
    "  Race(46, 358),\n",
    "  Race(68, 1054),\n",
    "  Race(98, 1807),\n",
    "  Race(66, 1080)\n",
    "]\n",
    "\n",
    "# races = [\n",
    "#   Race(7, 9),\n",
    "#   Race(15, 40),\n",
    "#   Race(30, 200)\n",
    "# ]\n",
    "\n",
    "# part 1\n",
    "res = 1\n",
    "for race in races:\n",
    "  res *= race.waysToWin\n",
    "print(res)"
   ]
  },
  {
   "cell_type": "code",
   "execution_count": 11,
   "metadata": {},
   "outputs": [
    {
     "name": "stdout",
     "output_type": "stream",
     "text": [
      "27340847\n"
     ]
    }
   ],
   "source": [
    "# part2\n",
    "\n",
    "race = Race(46689866, 358105418071080)\n",
    "\n",
    "# race = Race(71530, 940200)\n",
    "\n",
    "print(race.waysToWin)"
   ]
  }
 ],
 "metadata": {
  "kernelspec": {
   "display_name": "Python 3",
   "language": "python",
   "name": "python3"
  },
  "language_info": {
   "codemirror_mode": {
    "name": "ipython",
    "version": 3
   },
   "file_extension": ".py",
   "mimetype": "text/x-python",
   "name": "python",
   "nbconvert_exporter": "python",
   "pygments_lexer": "ipython3",
   "version": "3.10.13"
  }
 },
 "nbformat": 4,
 "nbformat_minor": 2
}
