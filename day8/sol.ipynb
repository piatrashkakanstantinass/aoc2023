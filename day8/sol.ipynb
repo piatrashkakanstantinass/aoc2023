{
 "cells": [
  {
   "cell_type": "code",
   "execution_count": 7,
   "metadata": {},
   "outputs": [
    {
     "name": "stdout",
     "output_type": "stream",
     "text": [
      "[13207, 22199, 14893, 16579, 20513, 12083]\n",
      "10241191004509\n"
     ]
    }
   ],
   "source": [
    "import re\n",
    "from math import lcm\n",
    "\n",
    "with open('input.txt') as f:\n",
    "  input = f.read()\n",
    "\n",
    "instructions, directions_str = input.split('\\n\\n')\n",
    "\n",
    "directions = {\n",
    "\n",
    "}\n",
    "\n",
    "for direction_str in directions_str.splitlines():\n",
    "  match = re.match(r'(\\w+) = \\((\\w+), (\\w+)\\)', direction_str)\n",
    "  from_n, to_l, to_r = match.group(1,2,3)\n",
    "  directions[from_n] = (to_l, to_r)\n",
    "\n",
    "def gen_stack():\n",
    "  return list(reversed(instructions))\n",
    "\n",
    "def steps_to_z(node):\n",
    "  stack = gen_stack()\n",
    "  curr = node\n",
    "  res = 0\n",
    "  while True:\n",
    "    if curr.endswith('Z'):\n",
    "      break\n",
    "    if len(stack) == 0:\n",
    "      stack = gen_stack()\n",
    "    instr = stack.pop()\n",
    "    res += 1\n",
    "    if instr == 'L':\n",
    "      curr = directions[curr][0]\n",
    "    else:\n",
    "      curr = directions[curr][1]\n",
    "  return res\n",
    "\n",
    "\n",
    "steps = [steps_to_z(node) for node in directions.keys() if node.endswith('A')]\n",
    "print(steps)\n",
    "print(lcm(*steps))"
   ]
  }
 ],
 "metadata": {
  "kernelspec": {
   "display_name": "Python 3",
   "language": "python",
   "name": "python3"
  },
  "language_info": {
   "codemirror_mode": {
    "name": "ipython",
    "version": 3
   },
   "file_extension": ".py",
   "mimetype": "text/x-python",
   "name": "python",
   "nbconvert_exporter": "python",
   "pygments_lexer": "ipython3",
   "version": "3.10.13"
  }
 },
 "nbformat": 4,
 "nbformat_minor": 2
}
