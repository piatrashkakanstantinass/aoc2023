{
 "cells": [
  {
   "cell_type": "code",
   "execution_count": 19,
   "metadata": {},
   "outputs": [],
   "source": [
    "with open('input.txt') as f:\n",
    "  grid = f.read().splitlines()"
   ]
  },
  {
   "cell_type": "code",
   "execution_count": 20,
   "metadata": {},
   "outputs": [
    {
     "name": "stdout",
     "output_type": "stream",
     "text": [
      "6717\n"
     ]
    }
   ],
   "source": [
    "ans_grid = [[0 if value == 'S' else -1 for value in row] for row in grid]\n",
    "\n",
    "def get_neighbours(i: int, j: int) -> tuple[tuple[int, int],tuple[int, int]]:\n",
    "  tile = grid[i][j]\n",
    "  if tile == '|' or tile == 'S': # quick and dirty\n",
    "    return ((i - 1, j),(i + 1, j))\n",
    "  if tile == '-':\n",
    "    return ((i, j - 1), (i, j + 1))\n",
    "  if tile == 'L':\n",
    "    return ((i - 1, j), (i, j + 1))\n",
    "  if tile == 'J':\n",
    "    return ((i - 1, j), (i, j - 1))\n",
    "  if tile == '7':\n",
    "    return ((i + 1, j), (i, j - 1))\n",
    "  if tile == 'F':\n",
    "    return ((i + 1, j), (i, j + 1))\n",
    "  raise ValueError('Did not get a pipe')\n",
    "\n",
    "def find_s() -> tuple[int, int]:\n",
    "  for i in range(len(grid)):\n",
    "    for j in range(len(grid[i])):\n",
    "      if grid[i][j] == 'S':\n",
    "        return (i, j)\n",
    "\n",
    "from collections import deque\n",
    "\n",
    "def bfs():\n",
    "  global ans_grid\n",
    "  tiles = deque([find_s()])\n",
    "  while tiles:\n",
    "    tile = tiles.popleft()\n",
    "    next_tiles = get_neighbours(tile[0], tile[1])\n",
    "    for i, j in next_tiles:\n",
    "      if ans_grid[i][j] == -1:\n",
    "        ans_grid[i][j] = 1 + ans_grid[tile[0]][tile[1]]\n",
    "        tiles.append((i, j))\n",
    "\n",
    "bfs()\n",
    "res = 0\n",
    "for row in ans_grid:\n",
    "  for v in row:\n",
    "    if v > res:\n",
    "      res = v\n",
    "print(res) # part 1"
   ]
  }
 ],
 "metadata": {
  "kernelspec": {
   "display_name": "Python 3",
   "language": "python",
   "name": "python3"
  },
  "language_info": {
   "codemirror_mode": {
    "name": "ipython",
    "version": 3
   },
   "file_extension": ".py",
   "mimetype": "text/x-python",
   "name": "python",
   "nbconvert_exporter": "python",
   "pygments_lexer": "ipython3",
   "version": "3.10.13"
  }
 },
 "nbformat": 4,
 "nbformat_minor": 2
}
