{
 "cells": [
  {
   "cell_type": "code",
   "execution_count": 31,
   "metadata": {},
   "outputs": [],
   "source": [
    "with open(\"input.txt\") as f:\n",
    "  games = f.read().splitlines()\n",
    "\n",
    "# games = [\n",
    "# \"Game 1: 3 blue, 4 red; 1 red, 2 green, 6 blue; 2 green\",\n",
    "# \"Game 2: 1 blue, 2 green; 3 green, 4 blue, 1 red; 1 green, 1 blue\",\n",
    "# \"Game 3: 8 green, 6 blue, 20 red; 5 blue, 4 red, 13 green; 5 green, 1 red\",\n",
    "# \"Game 4: 1 green, 3 red, 6 blue; 3 green, 6 red; 3 green, 15 blue, 14 red\",\n",
    "# \"Game 5: 6 red, 1 blue, 3 green; 2 blue, 1 red, 2 green\",\n",
    "# ]\n"
   ]
  },
  {
   "cell_type": "code",
   "execution_count": 23,
   "metadata": {},
   "outputs": [],
   "source": [
    "from dataclasses import dataclass\n",
    "import re\n",
    "\n",
    "@dataclass\n",
    "class Subset:\n",
    "  red: int = 0\n",
    "  green: int = 0\n",
    "  blue: int = 0\n",
    "\n",
    "@dataclass\n",
    "class Game:\n",
    "  id: int\n",
    "  subsets: list[Subset]\n",
    "\n",
    "game_regex = re.compile(r'^Game (\\d+): (.*)$')\n",
    "subset_separator_regex = re.compile(r'; ')\n",
    "value_separator_regex = re.compile(r', ')\n",
    "value_regex = re.compile(r'(\\d+) (\\w+)')\n",
    "\n",
    "def parse_game(game: str) -> Game:\n",
    "  match = re.match(game_regex, game)\n",
    "  if match == None:\n",
    "    raise ValueError()\n",
    "  id, rest = match.group(1, 2)\n",
    "  subsets = re.split(subset_separator_regex, rest)\n",
    "  return Game(int(id), list(map(parse_subset, subsets)))\n",
    "\n",
    "def parse_subset(subset: str) -> Subset:\n",
    "  values = re.split(value_separator_regex, subset)\n",
    "  value_matches = map(lambda v: re.match(value_regex, v), values)\n",
    "  subset: Subset = Subset()\n",
    "  for match in value_matches:\n",
    "    if match == None:\n",
    "      raise ValueError()\n",
    "    color = match.group(2)\n",
    "    value = int(match.group(1))\n",
    "    if color == 'blue':\n",
    "      subset.blue = value\n",
    "    elif color == 'green':\n",
    "      subset.green = value\n",
    "    elif color == 'red':\n",
    "      subset.red = value\n",
    "    else:\n",
    "      raise ValueError()\n",
    "  return subset\n"
   ]
  },
  {
   "cell_type": "code",
   "execution_count": 32,
   "metadata": {},
   "outputs": [
    {
     "name": "stdout",
     "output_type": "stream",
     "text": [
      "66363\n"
     ]
    }
   ],
   "source": [
    "res = 0\n",
    "\n",
    "max_red = 12\n",
    "max_green = 13\n",
    "max_blue = 14\n",
    "\n",
    "for game in games:\n",
    "  parsed_game = parse_game(game)\n",
    "  min_red = 0\n",
    "  min_green = 0\n",
    "  min_blue = 0\n",
    "  for subset in parsed_game.subsets:\n",
    "    min_red = max(min_red, subset.red)\n",
    "    min_green = max(min_green, subset.green)\n",
    "    min_blue = max(min_blue, subset.blue)\n",
    "  res += min_red * min_green * min_blue\n",
    "\n",
    "print(res)"
   ]
  }
 ],
 "metadata": {
  "kernelspec": {
   "display_name": "Python 3",
   "language": "python",
   "name": "python3"
  },
  "language_info": {
   "codemirror_mode": {
    "name": "ipython",
    "version": 3
   },
   "file_extension": ".py",
   "mimetype": "text/x-python",
   "name": "python",
   "nbconvert_exporter": "python",
   "pygments_lexer": "ipython3",
   "version": "3.10.13"
  }
 },
 "nbformat": 4,
 "nbformat_minor": 2
}
