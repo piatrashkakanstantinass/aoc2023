{
 "cells": [
  {
   "cell_type": "code",
   "execution_count": 10,
   "metadata": {},
   "outputs": [
    {
     "name": "stdout",
     "output_type": "stream",
     "text": [
      "374\n"
     ]
    }
   ],
   "source": [
    "with open('input.txt') as f:\n",
    "  universe = f.read().splitlines()\n",
    "\n",
    "def expand_universe(universe: list[str]):\n",
    "  expanded_rows = expand_rows(universe)\n",
    "  rotated = rotate_universe(expanded_rows)\n",
    "  return expand_rows(rotated)\n",
    "\n",
    "def rotate_universe(universe: list[str]) -> list[str]:\n",
    "  return list(zip(*universe[::-1]))\n",
    "\n",
    "def expand_rows(rows: list[str]):\n",
    "  expanded_rows = []\n",
    "  for row in rows:\n",
    "    expanded_rows.append(row)\n",
    "    if '#' not in row:\n",
    "      expanded_rows.append(row)\n",
    "  return expanded_rows\n",
    "  \n",
    "\n",
    "def get_galaxy_locations(universe: list[str]) -> list[tuple[int, int]]:\n",
    "  locations = []\n",
    "  for i, row in enumerate(universe):\n",
    "    for j, v in enumerate(row):\n",
    "      if v == '#':\n",
    "        locations.append((i, j))\n",
    "  return locations\n",
    "\n",
    "def calculate_min_path(a: tuple[int, int], b: tuple[int, int]):\n",
    "  return abs(a[0] - b[0]) + abs(a[1] - b[1])\n",
    "\n",
    "expanded_universe = expand_universe(universe)\n",
    "galaxy_locations = get_galaxy_locations(expanded_universe)\n",
    "\n",
    "# part 1\n",
    "res = 0\n",
    "for i in range(len(galaxy_locations)):\n",
    "  for j in range(i + 1, len(galaxy_locations)):\n",
    "    res += calculate_min_path(galaxy_locations[i], galaxy_locations[j])\n",
    "print(res)"
   ]
  },
  {
   "cell_type": "code",
   "execution_count": 23,
   "metadata": {},
   "outputs": [
    {
     "name": "stdout",
     "output_type": "stream",
     "text": [
      "[3, 7]\n",
      "[2, 5, 8]\n",
      "8410\n"
     ]
    }
   ],
   "source": [
    "# part 2\n",
    "empty_row_indexes = []\n",
    "empty_col_indexes = []\n",
    "\n",
    "def populate_indexes():\n",
    "  global empty_row_indexes\n",
    "  global empty_col_indexes\n",
    "  global universe\n",
    "\n",
    "  for i, row in enumerate(universe):\n",
    "    if row == '.' * len(row):\n",
    "      empty_row_indexes.append(i)\n",
    "  \n",
    "  for i, col in enumerate(zip(*universe)):\n",
    "    if '#' not in col:\n",
    "      empty_col_indexes.append(i)\n",
    "\n",
    "def calculate_min_path_part2(a: tuple[int, int], b: tuple[int, int]):\n",
    "  increase = 1000000 - 1\n",
    "  base = abs(a[0] - b[0]) + abs(a[1] - b[1])\n",
    "  for i in range(min(a[0], b[0]) + 1, max(a[0], b[0])):\n",
    "    if i in empty_row_indexes:\n",
    "      base += increase\n",
    "  for i in range(min(a[1], b[1]) + 1, max(a[1], b[1])):\n",
    "    if i in empty_col_indexes:\n",
    "      base += increase\n",
    "  return base\n",
    "\n",
    "populate_indexes()\n",
    "galaxy_locations = get_galaxy_locations(universe)\n",
    "print(empty_row_indexes)\n",
    "print(empty_col_indexes)\n",
    "res = 0\n",
    "for i in range(len(galaxy_locations)):\n",
    "  for j in range(i + 1, len(galaxy_locations)):\n",
    "    res += calculate_min_path_part2(galaxy_locations[i], galaxy_locations[j])\n",
    "print(res)"
   ]
  }
 ],
 "metadata": {
  "kernelspec": {
   "display_name": "Python 3",
   "language": "python",
   "name": "python3"
  },
  "language_info": {
   "codemirror_mode": {
    "name": "ipython",
    "version": 3
   },
   "file_extension": ".py",
   "mimetype": "text/x-python",
   "name": "python",
   "nbconvert_exporter": "python",
   "pygments_lexer": "ipython3",
   "version": "3.10.13"
  }
 },
 "nbformat": 4,
 "nbformat_minor": 2
}
