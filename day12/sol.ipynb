{
 "cells": [
  {
   "cell_type": "code",
   "execution_count": 151,
   "metadata": {},
   "outputs": [],
   "source": [
    "from dataclasses import dataclass\n",
    "\n",
    "@dataclass\n",
    "class Record:\n",
    "  pattern: str\n",
    "  counts: list[int]"
   ]
  },
  {
   "cell_type": "code",
   "execution_count": 152,
   "metadata": {},
   "outputs": [],
   "source": [
    "def get_input(filename: str):\n",
    "  records = []\n",
    "  with open(filename) as f:\n",
    "    for line in f.read().splitlines():\n",
    "      pattern, counts_str = line.split()\n",
    "      records.append(Record(pattern, list(map(int, counts_str.split(',')))))\n",
    "  return records"
   ]
  },
  {
   "cell_type": "code",
   "execution_count": 162,
   "metadata": {},
   "outputs": [],
   "source": [
    "from collections import deque\n",
    "from functools import cache\n",
    "\n",
    "def solve_part1(filename: str):\n",
    "  records = get_input(filename)\n",
    "  return sum([number_of_record_variations_part1(record) for record in records])\n",
    "\n",
    "def solve_part2(filename: str):\n",
    "  records = get_input(filename)\n",
    "  answers = []\n",
    "  for record in records:\n",
    "    print(record)\n",
    "    answers.append(number_of_record_variations_part2(record))\n",
    "  print(answers)\n",
    "  return sum(answers)\n",
    "\n",
    "def number_of_record_variations_part1(record: Record):\n",
    "  res = 0\n",
    "  for possible_string in gen_possible_string(record.pattern):\n",
    "    if is_string_valid(possible_string, record.counts):\n",
    "      res += 1\n",
    "  return res\n",
    "\n",
    "def is_string_valid(str: str, counts: list[int]):\n",
    "  return counts == list(map(lambda v: len(v), filter(lambda v: len(v) != 0, str.split('.'))))\n",
    "\n",
    "def gen_possible_string(pattern: str):\n",
    "  if '?' not in pattern:\n",
    "    yield pattern\n",
    "    return\n",
    "  i = pattern.index('?')\n",
    "  for possible_pattern in gen_possible_string(pattern[:i] + '.' + pattern[i + 1:]):\n",
    "    yield possible_pattern\n",
    "  for possible_pattern in gen_possible_string(pattern[:i] + '#' + pattern[i + 1:]):\n",
    "    yield possible_pattern\n",
    "\n",
    "def number_of_record_variations_part2(record: Record):\n",
    "  pattern = '?'.join([record.pattern] * 5)\n",
    "  counts = record.counts  * 5\n",
    "  important_fields = list(filter(lambda v: len(v) > 0, pattern.split('.')))\n",
    "  return process_fields(tuple(important_fields), tuple(counts))\n",
    "\n",
    "@cache\n",
    "def process_fields(fields, counts):\n",
    "  if len(fields) == 0 and len(counts) == 0:\n",
    "    return 1\n",
    "  if len(fields) == 0:\n",
    "    return 0\n",
    "  if len(counts) == 0:\n",
    "    if '#' in ''.join(fields):\n",
    "      return 0\n",
    "    return 1\n",
    "  res = 0\n",
    "  if (fields[0][0] == '#' and len(fields[0]) >= counts[0]) or len(fields[0]) >= counts[0]:\n",
    "    res += s_with_hash(fields, counts)\n",
    "  if fields[0][0] == '?':\n",
    "    left = fields[0][1:]\n",
    "    res += process_fields(((left,) if left != '' else tuple()) + fields[1:], counts)\n",
    "  return res\n",
    "  \n",
    "def s_with_hash(fields: list[str], counts: list[int]):\n",
    "  field = fields[0]\n",
    "  left = field[counts[0]:]\n",
    "  if len(left) > 0 and left[0] == '#':\n",
    "    return 0\n",
    "  left = left[1:]\n",
    "  new_fields = fields[1:] if left == '' else (left,) + fields[1:]\n",
    "  return process_fields(new_fields, counts[1:])"
   ]
  },
  {
   "cell_type": "code",
   "execution_count": 165,
   "metadata": {},
   "outputs": [
    {
     "name": "stdout",
     "output_type": "stream",
     "text": [
      "Record(pattern='???.###', counts=[1, 1, 3])\n",
      "Record(pattern='.??..??...?##.', counts=[1, 1, 3])\n",
      "Record(pattern='?#?#?#?#?#?#?#?', counts=[1, 3, 1, 6])\n",
      "Record(pattern='????.#...#...', counts=[4, 1, 1])\n",
      "Record(pattern='????.######..#####.', counts=[1, 6, 5])\n",
      "Record(pattern='?###????????', counts=[3, 2, 1])\n",
      "[1, 16384, 1, 16, 2500, 506250]\n",
      "525152\n"
     ]
    }
   ],
   "source": [
    "# print(solve_part1('test-input.txt'))\n",
    "# print(solve_part1('input.txt'))\n",
    "\n",
    "# print(number_of_record_variations_part2(Record(pattern='?????.?#??.#????#?', counts=[1, 1, 1, 3, 2, 4])))\n",
    "\n",
    "print(solve_part2('test-input.txt'))\n",
    "print(solve_part2('input.txt'))"
   ]
  }
 ],
 "metadata": {
  "kernelspec": {
   "display_name": "Python 3",
   "language": "python",
   "name": "python3"
  },
  "language_info": {
   "codemirror_mode": {
    "name": "ipython",
    "version": 3
   },
   "file_extension": ".py",
   "mimetype": "text/x-python",
   "name": "python",
   "nbconvert_exporter": "python",
   "pygments_lexer": "ipython3",
   "version": "3.10.13"
  }
 },
 "nbformat": 4,
 "nbformat_minor": 2
}
