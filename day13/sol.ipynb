{
 "cells": [
  {
   "cell_type": "code",
   "execution_count": 60,
   "metadata": {},
   "outputs": [
    {
     "data": {
      "text/plain": [
       "31108"
      ]
     },
     "execution_count": 60,
     "metadata": {},
     "output_type": "execute_result"
    }
   ],
   "source": [
    "def get_grids(filename: str):\n",
    "  with open(filename) as f:\n",
    "    return [grid.splitlines() for grid in f.read().split('\\n\\n')]\n",
    "\n",
    "def rotate_grid_clockwise(grid: list[str]):\n",
    "  return list(map(list, map(reversed, zip(*grid))))\n",
    "\n",
    "def number_of_rows_above_reflection(grid: list[str]):\n",
    "  for i in range(len(grid) - 1):\n",
    "    reflection = True\n",
    "    j = 0\n",
    "    while i - j >= 0 and i + 1 + j < len(grid):\n",
    "      if grid[i - j] != grid[i + 1 + j]:\n",
    "        reflection = False\n",
    "        break\n",
    "      j += 1\n",
    "    if reflection:\n",
    "      return i + 1\n",
    "  return 0\n",
    "\n",
    "def number_of_rows_above_reflection2(grid: list[str]):\n",
    "  res = []\n",
    "  for i in range(len(grid) - 1):\n",
    "    reflection = True\n",
    "    j = 0\n",
    "    while i - j >= 0 and i + 1 + j < len(grid):\n",
    "      if grid[i - j] != grid[i + 1 + j]:\n",
    "        reflection = False\n",
    "        break\n",
    "      j += 1\n",
    "    if reflection:\n",
    "      res.append(i + 1)\n",
    "  return res\n",
    "\n",
    "def solve_part1(filename: str):\n",
    "  grids = get_grids(filename)\n",
    "  res = 0\n",
    "  for grid in grids:\n",
    "    horizontal_refl = number_of_rows_above_reflection(grid)\n",
    "    if horizontal_refl > 0:\n",
    "      res += horizontal_refl * 100\n",
    "    else:\n",
    "      res += number_of_rows_above_reflection(rotate_grid_clockwise(grid))\n",
    "  return res\n",
    "\n",
    "def get_grid_score(grid: list[str]):\n",
    "    horizontal_refl = number_of_rows_above_reflection(grid)\n",
    "    if horizontal_refl > 0:\n",
    "      return horizontal_refl * 100\n",
    "    return number_of_rows_above_reflection(rotate_grid_clockwise(grid))\n",
    "\n",
    "def get_grid_score2(grid: list[str], prev_score: int):\n",
    "    horizontal_refls= number_of_rows_above_reflection2(grid)\n",
    "    horizontal_refls = [horr * 100 for horr in horizontal_refls]\n",
    "    for horizontal_refl in horizontal_refls:\n",
    "      if horizontal_refl > 0 and prev_score != horizontal_refl:\n",
    "        return horizontal_refls\n",
    "    return number_of_rows_above_reflection2(rotate_grid_clockwise(grid))\n",
    "\n",
    "def gen_alternative(grid: list[str]):\n",
    "  for i, row in enumerate(grid):\n",
    "    for j, v in enumerate(row):\n",
    "      yield(grid[:i] + [row[:j] + ('#' if v == '.' else '.') + row[j + 1:]] + grid[i + 1:])\n",
    "\n",
    "def solve_part2(filename: str):\n",
    "  grids = get_grids(filename)\n",
    "  res = 0\n",
    "  for grid in grids:\n",
    "    prev_score = get_grid_score(grid)\n",
    "    found_alt = False\n",
    "    for alternative in gen_alternative(grid):\n",
    "      alt_scores = get_grid_score2(alternative, prev_score)\n",
    "      for alt_score in alt_scores:\n",
    "        if alt_score > 0 and alt_score != prev_score:\n",
    "          found_alt = True\n",
    "          res += alt_score\n",
    "          break\n",
    "      if found_alt:\n",
    "        break\n",
    "  if not found_alt:\n",
    "    raise Exception(grid)\n",
    "    \n",
    "  return res\n",
    "\n",
    "\n",
    "\n",
    "solve_part1('input.txt')\n",
    "solve_part2('input.txt')"
   ]
  },
  {
   "cell_type": "code",
   "execution_count": null,
   "metadata": {},
   "outputs": [],
   "source": [
    "###..##\n",
    "...##..\n",
    "..#..#.\n",
    "##.##.#\n",
    "###..##\n",
    "..####.\n",
    "#######\n",
    "\n",
    "['###..##', '...##..', '..#..#.', '##.##.#', '###..##', '..####.', '#######']"
   ]
  }
 ],
 "metadata": {
  "kernelspec": {
   "display_name": "Python 3",
   "language": "python",
   "name": "python3"
  },
  "language_info": {
   "codemirror_mode": {
    "name": "ipython",
    "version": 3
   },
   "file_extension": ".py",
   "mimetype": "text/x-python",
   "name": "python",
   "nbconvert_exporter": "python",
   "pygments_lexer": "ipython3",
   "version": "3.10.13"
  }
 },
 "nbformat": 4,
 "nbformat_minor": 2
}
